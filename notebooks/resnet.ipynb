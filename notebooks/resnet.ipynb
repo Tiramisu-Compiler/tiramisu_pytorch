{
 "cells": [
  {
   "cell_type": "code",
   "execution_count": 1,
   "metadata": {},
   "outputs": [
    {
     "name": "stdout",
     "output_type": "stream",
     "text": [
      "Default version took 99.64ms\n"
     ]
    }
   ],
   "source": [
    "from PIL import Image\n",
    "import numpy as np \n",
    "import torch \n",
    "import time\n",
    "from resnet import * \n",
    "\n",
    "model = resnet18()\n",
    "model.eval()\n",
    "\n",
    "test_image = Image.open(\"iris.jpg\")\n",
    "tensor = torch.from_numpy(np.array(test_image))\n",
    "reshaped = tensor.permute(2, 0, 1).unsqueeze(0)\n",
    "inputs =  reshaped.float()\n",
    "#print(inputs.size)\n",
    "trace_jit = torch.jit.trace(model, inputs)\n",
    "\n",
    "t = time.time()\n",
    "y1 = trace_jit(inputs)\n",
    "time_pytorch = time.time() - t \n",
    "print(\"Default version took {:.2f}ms\".format(1000 *time_pytorch))"
   ]
  },
  {
   "cell_type": "code",
   "execution_count": 3,
   "metadata": {},
   "outputs": [
    {
     "name": "stdout",
     "output_type": "stream",
     "text": [
      "Tiramisu compilation took 124.37ms\n",
      "Tiramisu execution took 43.5ms\n"
     ]
    }
   ],
   "source": [
    "import pytorch_tiramisu as pt \n",
    "pt.enable(jit=False) \n",
    "\n",
    "\n",
    "t = time.time()\n",
    "generated = pt.compile(model(inputs))\n",
    "compilation_time = time.time() - t\n",
    "\n",
    "t = time.time()\n",
    "pt.execute(generated)\n",
    "execution_time = time.time() - t\n",
    "\n",
    "print(\"Tiramisu compilation took {:.2f}ms\".format(1000 * compilation_time)\n",
    "print(\"Tiramisu execution took {:.2f}ms\".format(1000 * execution_time))"
   ]
  },
  {
   "cell_type": "code",
   "execution_count": 5,
   "metadata": {},
   "outputs": [
    {
     "data": {
      "text/plain": [
       "[56.0147762298584, 85.01696586608887, 161.14020347595215, 406.5890312194824]"
      ]
     },
     "execution_count": 5,
     "metadata": {},
     "output_type": "execute_result"
    }
   ],
   "source": [
    "models = [resnet18(), resnet34(), resnet50(), resnet152()]\n",
    "\n",
    "pytorch_times = []\n",
    "for model in models:\n",
    "    t = time.time()\n",
    "    y = model(inputs)\n",
    "    time_pytorch = time.time() - t\n",
    "    pytorch_times.append(time_pytorch*1000)\n",
    "    \n",
    "pytorch_times"
   ]
  },
  {
   "cell_type": "code",
   "execution_count": 6,
   "metadata": {},
   "outputs": [
    {
     "data": {
      "text/plain": [
       "[43.2658584014776, 45.14020347608887, 103.21501692121949, 268.9865955890324]"
      ]
     },
     "execution_count": 6,
     "metadata": {},
     "output_type": "execute_result"
    }
   ],
   "source": [
    "tiramisu_times = []\n",
    "\n",
    "for model in models:\n",
    "    t = time.time()\n",
    "    generated = pt.compile(model(inputs))\n",
    "    compilation_time = time.time() - t\n",
    "\n",
    "    t = time.time()\n",
    "    pt.execute(generated)\n",
    "    execution_time = time.time() - t\n",
    "    tiramisu_times.append(execution_time*1000)\n",
    "\n",
    "tiramisu_times"
   ]
  },
  {
   "cell_type": "code",
   "execution_count": 10,
   "metadata": {},
   "outputs": [
    {
     "data": {
      "image/png": "[encoded data removed]",
      "text/plain": [
       "<Figure size 432x288 with 1 Axes>"
      ]
     },
     "metadata": {
      "needs_background": "light"
     },
     "output_type": "display_data"
    }
   ],
   "source": [
    "import numpy as np\n",
    "import matplotlib.pyplot as plt\n",
    "\n",
    "# data to plot\n",
    "n_groups = len(models)\n",
    "# create plot\n",
    "fig, ax = plt.subplots()\n",
    "index = np.arange(n_groups)\n",
    "bar_width = 0.35\n",
    "opacity = 0.8\n",
    "\n",
    "rects1 = plt.bar(index, pytorch_times, bar_width,\n",
    "alpha=opacity,\n",
    "color='#cc0000',\n",
    "label='Default PyTorch')\n",
    "\n",
    "rects2 = plt.bar(index + bar_width, tiramisu_times, bar_width,\n",
    "alpha=opacity,\n",
    "color='#1c4587',\n",
    "label='Tiramisu')\n",
    "\n",
    "plt.xlabel('Models')\n",
    "plt.ylabel('Times (ms)')\n",
    "plt.title('Performance Comparison between PyTorch and Tiramisu on Resnet')\n",
    "plt.xticks(index + bar_width, ('resnet18', 'resnet34', 'resnet50', 'resnet152'))\n",
    "plt.legend()\n",
    "\n",
    "plt.tight_layout()\n",
    "plt.show()"
   ]
  }
 ],
 "metadata": {
  "kernelspec": {
   "display_name": "Python 3",
   "language": "python",
   "name": "python3"
  },
  "language_info": {
   "codemirror_mode": {
    "name": "ipython",
    "version": 3
   },
   "file_extension": ".py",
   "mimetype": "text/x-python",
   "name": "python",
   "nbconvert_exporter": "python",
   "pygments_lexer": "ipython3",
   "version": "3.7.3"
  }
 },
 "nbformat": 4,
 "nbformat_minor": 2
}
