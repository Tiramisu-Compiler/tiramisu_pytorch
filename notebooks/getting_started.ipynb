{
 "cells": [
  {
   "cell_type": "markdown",
   "metadata": {},
   "source": [
    "## Getting Started \n",
    "Tiramisu is a polyhedral framework designed to generate high-performance code for multiple platforms including multicores, GPUs, and distributed machines. TIRAMISU introduces a scheduling language with novel commands to explicitly manage the complexities that arise when targeting these systems.\n",
    "\n",
    "pytorch_tiramisu is a python package that integrates Tiramisu Deep Learning Compiler to PyTorch Deep Learning Framework. The purpose of this integration is to benefit from Tiramisu optimizations transparently when using PyTorch. \n",
    "\n",
    "### Usage \n",
    "\n",
    "* pytorch_tiramisu can hook into PyTorch JIT and compile the model operators that it supports. (if jit parameter is set to True) \n",
    "\n",
    "In this case the user doesn't have to know anything about tiramisu and tiramisu directly uses its optimized operators to replace PyTorch current JIT.\n",
    "\n",
    "NOTE : By default the mode of installation is 1. If you installed Tiramisu you should precise it when enabling the package. pt.enable(mode=2, jit=False) "
   ]
  },
  {
   "cell_type": "code",
   "execution_count": 25,
   "metadata": {},
   "outputs": [
    {
     "name": "stdout",
     "output_type": "stream",
     "text": [
      "-- Default IR --\n",
      "  \n",
      " graph(%A.1 : Float(*, *)):\n",
      "  %result.2 : Float(*, *) = aten::relu(%A.1) # /home/hasus/anaconda3/lib/python3.7/site-packages/torch/nn/functional.py:914:17\n",
      "  return (%result.2)\n",
      "\n",
      "-- Tiramisu IR --\n",
      " \n",
      "    1. A : (t_input) float {1024}\n",
      "    2. relu_tiramisu : (t_opt) relu_tiramisu(%1.A)\n",
      "    3. output : (t_output) float {1024}\n"
     ]
    }
   ],
   "source": [
    "import torch \n",
    "import torch.nn.functional as F\n",
    "\n",
    "A = torch.randn(1024)\n",
    "\n",
    "@torch.jit.script\n",
    "def relu_(a):\n",
    "    return F.relu(a) \n",
    "\n",
    "print(\"-- Default IR --\\n\", relu_.graph_for(A))\n",
    "print()\n",
    "\n",
    "import pytorch_tiramisu as pt \n",
    "pt.enable(jit=True) \n",
    "\n",
    "# The following function will be compiled with Tiramisu\n",
    "@torch.jit.script\n",
    "def relu_tiramisu(a):\n",
    "    return F.relu(a) \n",
    "\n",
    "print(\"-- Tiramisu IR --\\n\", relu_tiramisu.graph_for(A))"
   ]
  },
  {
   "cell_type": "markdown",
   "metadata": {},
   "source": [
    "Otherwise, pytorch_tiramisu.compile(model) can be used to perform the compilation of the deep learning model prior to running the final graph execution. \n",
    "\n",
    "In this case, the pytorch_tiramisu runs a bunch of passes through the model computation graph: \n",
    "1. **Fusion Pass** \n",
    "* **Compilation Pass**: that consists on optimizing and generating the operators for each node in the graph.\n",
    "* **Execution Pass**\n"
   ]
  },
  {
   "cell_type": "code",
   "execution_count": 15,
   "metadata": {},
   "outputs": [
    {
     "data": {
      "text/plain": [
       "tensor([[ 0.5795,  0.2172, -0.2935, -1.1711,  0.0419,  0.6569, -0.4049, -0.2046,\n",
       "          0.4880, -0.1260]])"
      ]
     },
     "execution_count": 15,
     "metadata": {},
     "output_type": "execute_result"
    }
   ],
   "source": [
    "import torch \n",
    "import torch.nn as nn \n",
    "import torch.nn.functional as F\n",
    "import pytorch_tiramisu as pt \n",
    "\n",
    "pt.enable(jit=False) \n",
    "\n",
    "class Net(nn.Module):\n",
    "    def __init__(self):\n",
    "        super(Net, self).__init__()\n",
    "        self.fc = nn.Linear(256, 10)\n",
    "\n",
    "    def forward(self, x):\n",
    "        x = self.fc(x)\n",
    "        return x\n",
    "        \n",
    "model = Net() \n",
    "a = torch.randn(1, 256)\n",
    "generated = pt.compile(model(a)) # Execute an optimization pass and generate the operators.\n",
    "pt.execute(generated) "
   ]
  },
  {
   "cell_type": "markdown",
   "metadata": {},
   "source": [
    "### Fusion \n",
    "[Previous research](https://mboehm7.github.io/resources/ppopp2015.pdf) in the machine learning area has revealed opportunities for performance improvements from kernel fusion. This optimization can be used upon the compiler IR to fuse multiple operations together. \n",
    "\n",
    "In pytorch_tiramisu, the compiler automatically detects the pre-generated object files of the fused blocks (multiple operators) and use them whenever the model graph contains the same sequence of operators. For example, if the model contains Conv, Relu and then maxpool operators and the compiler finds the pre-compiled object file of the fused block Conv-Relu-Maxpool it will automatically fuse these three layers. \n",
    "\n",
    "On the other hand, if the user uses mode 2 of pytorch_tiramisu and wants to fuse operators that are independently registered in tiramisu, he or she can use the method pt.fuse() when defining the model. "
   ]
  },
  {
   "cell_type": "code",
   "execution_count": 4,
   "metadata": {},
   "outputs": [
    {
     "data": {
      "image/svg+xml": [
       "<?xml version=\"1.0\" encoding=\"UTF-8\" standalone=\"no\"?>\n",
       "<!DOCTYPE svg PUBLIC \"-//W3C//DTD SVG 1.1//EN\"\n",
       " \"http://www.w3.org/Graphics/SVG/1.1/DTD/svg11.dtd\">\n",
       "<!-- Generated by graphviz version 2.40.1 (20161225.0304)\n",
       " -->\n",
       "<!-- Title: %3 Pages: 1 -->\n",
       "<svg width=\"189pt\" height=\"214pt\"\n",
       " viewBox=\"0.00 0.00 189.00 214.00\" xmlns=\"http://www.w3.org/2000/svg\" xmlns:xlink=\"http://www.w3.org/1999/xlink\">\n",
       "<g id=\"graph0\" class=\"graph\" transform=\"scale(1 1) rotate(0) translate(4 210)\">\n",
       "<title>%3</title>\n",
       "<polygon fill=\"#ffffff\" stroke=\"transparent\" points=\"-4,4 -4,-210 185,-210 185,4 -4,4\"/>\n",
       "<!-- 140170827270128 -->\n",
       "<g id=\"node1\" class=\"node\">\n",
       "<title>140170827270128</title>\n",
       "<polygon fill=\"#d3d3d3\" stroke=\"#000000\" points=\"181,-21 0,-21 0,0 181,0 181,-21\"/>\n",
       "<text text-anchor=\"middle\" x=\"90.5\" y=\"-7.4\" font-family=\"Times,serif\" font-size=\"12.00\" fill=\"#000000\">MaxPool2DWithIndicesBackward</text>\n",
       "</g>\n",
       "<!-- 140170827269400 -->\n",
       "<g id=\"node2\" class=\"node\">\n",
       "<title>140170827269400</title>\n",
       "<polygon fill=\"#d3d3d3\" stroke=\"#000000\" points=\"137.5,-78 43.5,-78 43.5,-57 137.5,-57 137.5,-78\"/>\n",
       "<text text-anchor=\"middle\" x=\"90.5\" y=\"-64.4\" font-family=\"Times,serif\" font-size=\"12.00\" fill=\"#000000\">ReluBackward0</text>\n",
       "</g>\n",
       "<!-- 140170827269400&#45;&gt;140170827270128 -->\n",
       "<g id=\"edge1\" class=\"edge\">\n",
       "<title>140170827269400&#45;&gt;140170827270128</title>\n",
       "<path fill=\"none\" stroke=\"#000000\" d=\"M90.5,-56.7787C90.5,-49.6134 90.5,-39.9517 90.5,-31.3097\"/>\n",
       "<polygon fill=\"#000000\" stroke=\"#000000\" points=\"94.0001,-31.1732 90.5,-21.1732 87.0001,-31.1732 94.0001,-31.1732\"/>\n",
       "</g>\n",
       "<!-- 140170827269680 -->\n",
       "<g id=\"node3\" class=\"node\">\n",
       "<title>140170827269680</title>\n",
       "<polygon fill=\"#d3d3d3\" stroke=\"#000000\" points=\"171.5,-135 9.5,-135 9.5,-114 171.5,-114 171.5,-135\"/>\n",
       "<text text-anchor=\"middle\" x=\"90.5\" y=\"-121.4\" font-family=\"Times,serif\" font-size=\"12.00\" fill=\"#000000\">MkldnnConvolutionBackward</text>\n",
       "</g>\n",
       "<!-- 140170827269680&#45;&gt;140170827269400 -->\n",
       "<g id=\"edge2\" class=\"edge\">\n",
       "<title>140170827269680&#45;&gt;140170827269400</title>\n",
       "<path fill=\"none\" stroke=\"#000000\" d=\"M90.5,-113.7787C90.5,-106.6134 90.5,-96.9517 90.5,-88.3097\"/>\n",
       "<polygon fill=\"#000000\" stroke=\"#000000\" points=\"94.0001,-88.1732 90.5,-78.1732 87.0001,-88.1732 94.0001,-88.1732\"/>\n",
       "</g>\n",
       "<!-- 140170827270240 -->\n",
       "<g id=\"node4\" class=\"node\">\n",
       "<title>140170827270240</title>\n",
       "<polygon fill=\"#add8e6\" stroke=\"#000000\" points=\"85,-206 16,-206 16,-171 85,-171 85,-206\"/>\n",
       "<text text-anchor=\"middle\" x=\"50.5\" y=\"-178.4\" font-family=\"Times,serif\" font-size=\"12.00\" fill=\"#000000\"> (6, 3, 3, 3)</text>\n",
       "</g>\n",
       "<!-- 140170827270240&#45;&gt;140170827269680 -->\n",
       "<g id=\"edge3\" class=\"edge\">\n",
       "<title>140170827270240&#45;&gt;140170827269680</title>\n",
       "<path fill=\"none\" stroke=\"#000000\" d=\"M61.6422,-170.6724C66.8709,-162.3066 73.1118,-152.3212 78.4501,-143.7799\"/>\n",
       "<polygon fill=\"#000000\" stroke=\"#000000\" points=\"81.4658,-145.5584 83.7979,-135.2234 75.5298,-141.8484 81.4658,-145.5584\"/>\n",
       "</g>\n",
       "<!-- 140170827270296 -->\n",
       "<g id=\"node5\" class=\"node\">\n",
       "<title>140170827270296</title>\n",
       "<polygon fill=\"#add8e6\" stroke=\"#000000\" points=\"157.5,-206 103.5,-206 103.5,-171 157.5,-171 157.5,-206\"/>\n",
       "<text text-anchor=\"middle\" x=\"130.5\" y=\"-178.4\" font-family=\"Times,serif\" font-size=\"12.00\" fill=\"#000000\"> (6)</text>\n",
       "</g>\n",
       "<!-- 140170827270296&#45;&gt;140170827269680 -->\n",
       "<g id=\"edge4\" class=\"edge\">\n",
       "<title>140170827270296&#45;&gt;140170827269680</title>\n",
       "<path fill=\"none\" stroke=\"#000000\" d=\"M119.3578,-170.6724C114.1291,-162.3066 107.8882,-152.3212 102.5499,-143.7799\"/>\n",
       "<polygon fill=\"#000000\" stroke=\"#000000\" points=\"105.4702,-141.8484 97.2021,-135.2234 99.5342,-145.5584 105.4702,-141.8484\"/>\n",
       "</g>\n",
       "</g>\n",
       "</svg>\n"
      ],
      "text/plain": [
       "<graphviz.dot.Digraph at 0x7f7c105e05f8>"
      ]
     },
     "execution_count": 4,
     "metadata": {},
     "output_type": "execute_result"
    }
   ],
   "source": [
    "# Automatic Fusion \n",
    "import utils \n",
    "inputs = torch.randn(1,3,224,224)\n",
    "\n",
    "# Model Definition\n",
    "class Classifier(nn.Module):\n",
    "    # define model layers\n",
    "    def __init__(self):\n",
    "        super(Classifier, self).__init__()\n",
    "        self.conv1 = nn.Conv2d(3, 6, 3)\n",
    "\n",
    "    def forward(self, x):\n",
    "        # Max pooling over a (2, 2) window\n",
    "        x = F.max_pool2d(F.relu(self.conv1(x)), (2, 2))\n",
    "        return x\n",
    "    \n",
    "model = Classifier()\n",
    "y = model(inputs)\n",
    "\n",
    "g = utils.make_dot(y)\n",
    "g"
   ]
  },
  {
   "cell_type": "code",
   "execution_count": 18,
   "metadata": {},
   "outputs": [
    {
     "data": {
      "image/svg+xml": [
       "<?xml version=\"1.0\" encoding=\"UTF-8\" standalone=\"no\"?>\n",
       "<!DOCTYPE svg PUBLIC \"-//W3C//DTD SVG 1.1//EN\"\n",
       " \"http://www.w3.org/Graphics/SVG/1.1/DTD/svg11.dtd\">\n",
       "<!-- Generated by graphviz version 2.40.1 (20161225.0304)\n",
       " -->\n",
       "<!-- Title: %3 Pages: 1 -->\n",
       "<svg width=\"164pt\" height=\"86pt\"\n",
       " viewBox=\"0.00 0.00 164.00 86.00\" xmlns=\"http://www.w3.org/2000/svg\" xmlns:xlink=\"http://www.w3.org/1999/xlink\">\n",
       "<g id=\"graph0\" class=\"graph\" transform=\"scale(1 1) rotate(0) translate(4 82)\">\n",
       "<title>%3</title>\n",
       "<polygon fill=\"#ffffff\" stroke=\"transparent\" points=\"-4,4 -4,-82 160,-82 160,4 -4,4\"/>\n",
       "<!-- 0 -->\n",
       "<g id=\"node1\" class=\"node\">\n",
       "<title>0</title>\n",
       "<polygon fill=\"#add8e6\" stroke=\"#000000\" points=\"69.5,-78 12.5,-78 12.5,-57 69.5,-57 69.5,-78\"/>\n",
       "<text text-anchor=\"middle\" x=\"41\" y=\"-64.4\" font-family=\"Times,serif\" font-size=\"12.00\" fill=\"#000000\">(6,3,3,3)</text>\n",
       "</g>\n",
       "<!-- 2 -->\n",
       "<g id=\"node3\" class=\"node\">\n",
       "<title>2</title>\n",
       "<polygon fill=\"#7fff00\" stroke=\"#000000\" points=\"156,-21 0,-21 0,0 156,0 156,-21\"/>\n",
       "<text text-anchor=\"middle\" x=\"78\" y=\"-7.4\" font-family=\"Times,serif\" font-size=\"12.00\" fill=\"#000000\">Tiramisu::ConvReluMaxpool</text>\n",
       "</g>\n",
       "<!-- 0&#45;&gt;2 -->\n",
       "<g id=\"edge1\" class=\"edge\">\n",
       "<title>0&#45;&gt;2</title>\n",
       "<path fill=\"none\" stroke=\"#000000\" d=\"M47.9594,-56.7787C52.9207,-49.1357 59.7256,-38.6524 65.6044,-29.596\"/>\n",
       "<polygon fill=\"#000000\" stroke=\"#000000\" points=\"68.5628,-31.4667 71.0718,-21.1732 62.6913,-27.6553 68.5628,-31.4667\"/>\n",
       "</g>\n",
       "<!-- 1 -->\n",
       "<g id=\"node2\" class=\"node\">\n",
       "<title>1</title>\n",
       "<polygon fill=\"#add8e6\" stroke=\"#000000\" points=\"142,-78 88,-78 88,-57 142,-57 142,-78\"/>\n",
       "<text text-anchor=\"middle\" x=\"115\" y=\"-64.4\" font-family=\"Times,serif\" font-size=\"12.00\" fill=\"#000000\">(6)</text>\n",
       "</g>\n",
       "<!-- 1&#45;&gt;2 -->\n",
       "<g id=\"edge2\" class=\"edge\">\n",
       "<title>1&#45;&gt;2</title>\n",
       "<path fill=\"none\" stroke=\"#000000\" d=\"M108.0406,-56.7787C103.0793,-49.1357 96.2744,-38.6524 90.3956,-29.596\"/>\n",
       "<polygon fill=\"#000000\" stroke=\"#000000\" points=\"93.3087,-27.6553 84.9282,-21.1732 87.4372,-31.4667 93.3087,-27.6553\"/>\n",
       "</g>\n",
       "</g>\n",
       "</svg>\n"
      ],
      "text/plain": [
       "<graphviz.dot.Digraph at 0x7f7c1019d048>"
      ]
     },
     "execution_count": 18,
     "metadata": {},
     "output_type": "execute_result"
    }
   ],
   "source": [
    "generated = pt.compile(model(inputs))\n",
    "g = utils.make_dot_tiramisu(generated)\n",
    "g"
   ]
  },
  {
   "cell_type": "code",
   "execution_count": 19,
   "metadata": {},
   "outputs": [
    {
     "data": {
      "image/svg+xml": [
       "<?xml version=\"1.0\" encoding=\"UTF-8\" standalone=\"no\"?>\n",
       "<!DOCTYPE svg PUBLIC \"-//W3C//DTD SVG 1.1//EN\"\n",
       " \"http://www.w3.org/Graphics/SVG/1.1/DTD/svg11.dtd\">\n",
       "<!-- Generated by graphviz version 2.40.1 (20161225.0304)\n",
       " -->\n",
       "<!-- Title: %3 Pages: 1 -->\n",
       "<svg width=\"138pt\" height=\"143pt\"\n",
       " viewBox=\"0.00 0.00 137.50 143.00\" xmlns=\"http://www.w3.org/2000/svg\" xmlns:xlink=\"http://www.w3.org/1999/xlink\">\n",
       "<g id=\"graph0\" class=\"graph\" transform=\"scale(1 1) rotate(0) translate(4 139)\">\n",
       "<title>%3</title>\n",
       "<polygon fill=\"#ffffff\" stroke=\"transparent\" points=\"-4,4 -4,-139 133.5,-139 133.5,4 -4,4\"/>\n",
       "<!-- 0 -->\n",
       "<g id=\"node1\" class=\"node\">\n",
       "<title>0</title>\n",
       "<polygon fill=\"#add8e6\" stroke=\"#000000\" points=\"57,-135 0,-135 0,-114 57,-114 57,-135\"/>\n",
       "<text text-anchor=\"middle\" x=\"28.5\" y=\"-121.4\" font-family=\"Times,serif\" font-size=\"12.00\" fill=\"#000000\">(6,3,3,3)</text>\n",
       "</g>\n",
       "<!-- 2 -->\n",
       "<g id=\"node3\" class=\"node\">\n",
       "<title>2</title>\n",
       "<polygon fill=\"#7fff00\" stroke=\"#000000\" points=\"122,-78 9,-78 9,-57 122,-57 122,-78\"/>\n",
       "<text text-anchor=\"middle\" x=\"65.5\" y=\"-64.4\" font-family=\"Times,serif\" font-size=\"12.00\" fill=\"#000000\">Tiramisu::ConvRelu</text>\n",
       "</g>\n",
       "<!-- 0&#45;&gt;2 -->\n",
       "<g id=\"edge1\" class=\"edge\">\n",
       "<title>0&#45;&gt;2</title>\n",
       "<path fill=\"none\" stroke=\"#000000\" d=\"M35.4594,-113.7787C40.4207,-106.1357 47.2256,-95.6524 53.1044,-86.596\"/>\n",
       "<polygon fill=\"#000000\" stroke=\"#000000\" points=\"56.0628,-88.4667 58.5718,-78.1732 50.1913,-84.6553 56.0628,-88.4667\"/>\n",
       "</g>\n",
       "<!-- 1 -->\n",
       "<g id=\"node2\" class=\"node\">\n",
       "<title>1</title>\n",
       "<polygon fill=\"#add8e6\" stroke=\"#000000\" points=\"129.5,-135 75.5,-135 75.5,-114 129.5,-114 129.5,-135\"/>\n",
       "<text text-anchor=\"middle\" x=\"102.5\" y=\"-121.4\" font-family=\"Times,serif\" font-size=\"12.00\" fill=\"#000000\">(6)</text>\n",
       "</g>\n",
       "<!-- 1&#45;&gt;2 -->\n",
       "<g id=\"edge2\" class=\"edge\">\n",
       "<title>1&#45;&gt;2</title>\n",
       "<path fill=\"none\" stroke=\"#000000\" d=\"M95.5406,-113.7787C90.5793,-106.1357 83.7744,-95.6524 77.8956,-86.596\"/>\n",
       "<polygon fill=\"#000000\" stroke=\"#000000\" points=\"80.8087,-84.6553 72.4282,-78.1732 74.9372,-88.4667 80.8087,-84.6553\"/>\n",
       "</g>\n",
       "<!-- 3 -->\n",
       "<g id=\"node4\" class=\"node\">\n",
       "<title>3</title>\n",
       "<polygon fill=\"#d3d3d3\" stroke=\"#000000\" points=\"119,-21 12,-21 12,0 119,0 119,-21\"/>\n",
       "<text text-anchor=\"middle\" x=\"65.5\" y=\"-7.4\" font-family=\"Times,serif\" font-size=\"12.00\" fill=\"#000000\">Tiramisu::Maxpool</text>\n",
       "</g>\n",
       "<!-- 2&#45;&gt;3 -->\n",
       "<g id=\"edge3\" class=\"edge\">\n",
       "<title>2&#45;&gt;3</title>\n",
       "<path fill=\"none\" stroke=\"#000000\" d=\"M65.5,-56.7787C65.5,-49.6134 65.5,-39.9517 65.5,-31.3097\"/>\n",
       "<polygon fill=\"#000000\" stroke=\"#000000\" points=\"69.0001,-31.1732 65.5,-21.1732 62.0001,-31.1732 69.0001,-31.1732\"/>\n",
       "</g>\n",
       "</g>\n",
       "</svg>\n"
      ],
      "text/plain": [
       "<graphviz.dot.Digraph at 0x7f7c1019d710>"
      ]
     },
     "execution_count": 19,
     "metadata": {},
     "output_type": "execute_result"
    }
   ],
   "source": [
    "# Use pt.fuse \n",
    "# Model Definition\n",
    "class Classifier(nn.Module):\n",
    "    # define model layers\n",
    "    def __init__(self):\n",
    "        super(Classifier, self).__init__()\n",
    "        self.conv1 = pt.fuse(nn.Sequential(\n",
    "                                  nn.Conv2d(3, 6, 3),\n",
    "                                  nn.ReLU()\n",
    "                            ))    \n",
    "    def forward(self, x):\n",
    "        # Max pooling over a (2, 2) window\n",
    "        x = F.max_pool2d(self.conv1(x), (2, 2))\n",
    "        return x\n",
    "    \n",
    "model = Classifier()\n",
    "generated = pt.compile(model(inputs))\n",
    "g = utils.make_dot_tiramisu(generated)\n",
    "g"
   ]
  }
 ],
 "metadata": {
  "kernelspec": {
   "display_name": "Python 3",
   "language": "python",
   "name": "python3"
  },
  "language_info": {
   "codemirror_mode": {
    "name": "ipython",
    "version": 3
   },
   "file_extension": ".py",
   "mimetype": "text/x-python",
   "name": "python",
   "nbconvert_exporter": "python",
   "pygments_lexer": "ipython3",
   "version": "3.7.3"
  }
 },
 "nbformat": 4,
 "nbformat_minor": 2
}
